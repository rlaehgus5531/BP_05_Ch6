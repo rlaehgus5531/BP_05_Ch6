{
  "nbformat": 4,
  "nbformat_minor": 0,
  "metadata": {
    "colab": {
      "provenance": [],
      "authorship_tag": "ABX9TyOgCEGozZB/oG5IDV3fpvH0",
      "include_colab_link": true
    },
    "kernelspec": {
      "name": "python3",
      "display_name": "Python 3"
    },
    "language_info": {
      "name": "python"
    }
  },
  "cells": [
    {
      "cell_type": "markdown",
      "metadata": {
        "id": "view-in-github",
        "colab_type": "text"
      },
      "source": [
        "<a href=\"https://colab.research.google.com/github/rlaehgus5531/BP_05_Ch6/blob/main/BP_05_Ch6.ipynb\" target=\"_parent\"><img src=\"https://colab.research.google.com/assets/colab-badge.svg\" alt=\"Open In Colab\"/></a>"
      ]
    },
    {
      "cell_type": "markdown",
      "source": [
        "1.2부터 100사이의 모든짝수를 출력하는 반복루프를 작성한다."
      ],
      "metadata": {
        "id": "nagXP6tVa-GY"
      }
    },
    {
      "cell_type": "code",
      "execution_count": 1,
      "metadata": {
        "colab": {
          "base_uri": "https://localhost:8080/"
        },
        "id": "Ip5Bpo2ca9fR",
        "outputId": "c07eb9c0-efce-4347-8822-b7a7b6838510"
      },
      "outputs": [
        {
          "output_type": "stream",
          "name": "stdout",
          "text": [
            "2 4 6 8 10 12 14 16 18 20 22 24 26 28 30 32 34 36 38 40 42 44 46 48 50 52 54 56 58 60 62 64 66 68 70 72 74 76 78 80 82 84 86 88 90 92 94 96 98 100 "
          ]
        }
      ],
      "source": [
        "for i in range(2, 101):\n",
        "  if i%2==0 :\n",
        "    print(i,end = \" \")"
      ]
    },
    {
      "cell_type": "markdown",
      "source": [
        "2.어떤 사람이 복리이자를 7%로 1000만원을 저금했을 경우에 2000만원이 되는데 몇년이 걸리는지 계산히기 위하여 다음과 코드를 작성하였다. 잘못된 점은 없는지 체크해보자.\n",
        "\n",
        "year = 0\n",
        "\n",
        "balance = 1000\n",
        "\n",
        "while balance <= 2000 :\n",
        "\n",
        "year = year + 1\n",
        "\n",
        "interest = baIance * 0.07\n",
        "\n",
        "baIance = baIance + interest\n",
        "\n",
        "Print(year, \"년이 걸립니다.\")"
      ],
      "metadata": {
        "id": "4ZrE38NgbJxW"
      }
    },
    {
      "cell_type": "code",
      "source": [
        "year = 0\n",
        "balance = 1000\n",
        "while balance <= 2000 :\n",
        "  year = year + 1\n",
        "  interest = balance * 0.07\n",
        "  balance = balance + interest\n",
        "print(year, \"년이 걸립니다.\")"
      ],
      "metadata": {
        "colab": {
          "base_uri": "https://localhost:8080/"
        },
        "id": "NW9d_IpRbKaE",
        "outputId": "9e3d4a44-2f57-4356-b060-6ca73e2ab437"
      },
      "execution_count": 2,
      "outputs": [
        {
          "output_type": "stream",
          "name": "stdout",
          "text": [
            "11 년이 걸립니다.\n"
          ]
        }
      ]
    },
    {
      "cell_type": "markdown",
      "source": [
        "3.다음코드의 출력을 예상해보자. 각 단계에서 변수의 값을예상해보시오."
      ],
      "metadata": {
        "id": "YhLo1ObAbQW9"
      }
    },
    {
      "cell_type": "code",
      "source": [
        "n = 1234\n",
        "sum = 0\n",
        "while n > 0 :\n",
        "    digit = n % 10\n",
        "    sum = sum + digit\n",
        "    n = n // 10\n",
        "print(sum)"
      ],
      "metadata": {
        "colab": {
          "base_uri": "https://localhost:8080/"
        },
        "id": "qfnKcM6IbRe5",
        "outputId": "579c9b4a-8955-4448-9dbe-81794f191d44"
      },
      "execution_count": 3,
      "outputs": [
        {
          "output_type": "stream",
          "name": "stdout",
          "text": [
            "10\n"
          ]
        }
      ]
    },
    {
      "cell_type": "markdown",
      "source": [
        "4.사용자에게 곱셈 퀴즈를 내고 답을 사용자로부터 받는 프로그램에서 사용자가 올바른 답을 입력할 때까지 반복하도록 수정하여 보자"
      ],
      "metadata": {
        "id": "DnIQddwubU5N"
      }
    },
    {
      "cell_type": "code",
      "source": [
        "ans = 0\n",
        "while ans != 3*9:\n",
        " ans = int(input(\"3*9는\"))\n",
        "print(\"맞았습니다.\")"
      ],
      "metadata": {
        "colab": {
          "base_uri": "https://localhost:8080/"
        },
        "id": "sxMngHR8bWk5",
        "outputId": "3cd36e55-1aca-466c-80e9-54c4b58b1c9b"
      },
      "execution_count": 5,
      "outputs": [
        {
          "output_type": "stream",
          "name": "stdout",
          "text": [
            "3*9는0\n",
            "3*9는27\n",
            "맞았습니다.\n"
          ]
        }
      ]
    },
    {
      "cell_type": "markdown",
      "source": [
        "5.사용자가 입력한 졍수의 합을 계산하는 프로그램을 작성하자. 사용자가 ㅐ을 입력히기 전끼지 정수를 계속하여 읽도록 한다"
      ],
      "metadata": {
        "id": "IyPDf0aMbaCl"
      }
    },
    {
      "cell_type": "code",
      "source": [
        "sum = 0\n",
        "while True:\n",
        "  x = int(input(\"정수를 입력하시오: \"))\n",
        "  if x == 0:\n",
        "   break;\n",
        "  sum = sum + x\n",
        "print(\"합은 \", sum, \"입니다.\")"
      ],
      "metadata": {
        "colab": {
          "base_uri": "https://localhost:8080/"
        },
        "id": "SeLruW5hbduR",
        "outputId": "ab9cf946-2f72-4130-e632-6c79624deb18"
      },
      "execution_count": 14,
      "outputs": [
        {
          "output_type": "stream",
          "name": "stdout",
          "text": [
            "정수를 입력하시오: 1\n",
            "정수를 입력하시오: 2\n",
            "정수를 입력하시오: 3\n",
            "정수를 입력하시오: 0\n",
            "합은  6 입니다.\n"
          ]
        }
      ]
    },
    {
      "cell_type": "markdown",
      "source": [
        "6.난수생성 함수를사용하여서 2개의 주사위를던졌을때 나오는수를 다음과같이 출력 하여 보자."
      ],
      "metadata": {
        "id": "IqsuaduScDzn"
      }
    },
    {
      "cell_type": "code",
      "source": [
        "from random import randint\n",
        "for i in range(3) :\n",
        " d1 = randint(1, 6)\n",
        " d2 = randint(1, 6)\n",
        " print(\"첫번째 주사위=\", d1, \"두번째 주사위=\", d2)"
      ],
      "metadata": {
        "colab": {
          "base_uri": "https://localhost:8080/"
        },
        "id": "IuiYssE2cGKY",
        "outputId": "82a82c89-b578-4631-aedf-93cc96d9b140"
      },
      "execution_count": 15,
      "outputs": [
        {
          "output_type": "stream",
          "name": "stdout",
          "text": [
            "첫번째 주사위= 5 두번째 주사위= 1\n",
            "첫번째 주사위= 3 두번째 주사위= 4\n",
            "첫번째 주사위= 2 두번째 주사위= 2\n"
          ]
        }
      ]
    },
    {
      "cell_type": "markdown",
      "source": [
        "7.터틀그래픽과 반복을사용하여 눈모양을그려보자."
      ],
      "metadata": {
        "id": "AVWNW_fPcJ8s"
      }
    },
    {
      "cell_type": "code",
      "source": [
        "import turtle\n",
        "t = turtle.Turtle()\n",
        "t.shape(\"turtle\")\n",
        "t.left(90)\n",
        "for i in range (1,7):\n",
        "  t.forward(100)\n",
        "  t.forward(-30)\n",
        "  t.left(60)\n",
        "  t.forward(30)\n",
        "  t.forward(-30)\n",
        "  t.right(120)\n",
        "  t.forward(30)\n",
        "  t.forward(-30)\n",
        "  t.left(60)\n",
        "  t.forward(-70)\n",
        "  t.left(60)"
      ],
      "metadata": {
        "id": "KqvslH7pcLRX"
      },
      "execution_count": null,
      "outputs": []
    },
    {
      "cell_type": "markdown",
      "source": [
        "8.우리는 이번 장에서 터틀 그래픽으로 별을 그려보았다 이 코드를 응용하여서 다음과 같이 10개의 별을 그리는 프로그램을 작성하라 별들은 시작각도가 약간씩 다르다."
      ],
      "metadata": {
        "id": "PF3fgn1EcQ8k"
      }
    },
    {
      "cell_type": "code",
      "source": [
        "import turtle\n",
        "myPen = turtle.Turtle()\n",
        "myPen.speed(0)\n",
        "myPen.color(\"#FF0000\")\n",
        "for j in range (1,10):\n",
        "  for i in range (1,6):\n",
        "    myPen.left(144)\n",
        "    myPen.forward(200)\n",
        "  myPen.left(10)"
      ],
      "metadata": {
        "id": "E8u63otcduXR"
      },
      "execution_count": null,
      "outputs": []
    },
    {
      "cell_type": "markdown",
      "source": [
        "9.반복과 난수를 함께 사용하면 화면에 랜덤한 원을 그릴 수 있다. 화면에 10개의 랜덤한 원을 그리는 프로그램을 작성하라 원의 중심과 반지름이 모두 난수이어야 한다"
      ],
      "metadata": {
        "id": "gp0X_rLPcWo1"
      }
    },
    {
      "cell_type": "code",
      "source": [
        "import turtle\n",
        "import random\n",
        "t = turtle.Turtle()\n",
        "t.shape(\"turtle\")\n",
        "for j in range (1,10):\n",
        "  t.up()\n",
        "  x = random.randint(-200, 200)\n",
        "  y = random.randint(-200, 200)\n",
        "  r = random.randint(10, 200)\n",
        "  t.goto(x, y)\n",
        "  t.down()\n",
        "  t.circle(r)"
      ],
      "metadata": {
        "id": "wHrn1h_wcYE3"
      },
      "execution_count": null,
      "outputs": []
    },
    {
      "cell_type": "markdown",
      "source": [
        "10.다음와 같이 거북이를 왕복 달리기시키는 프로그램을 작성해보자"
      ],
      "metadata": {
        "id": "Fc_JcYE9clxm"
      }
    },
    {
      "cell_type": "code",
      "source": [
        "import turtle\n",
        "t = turtle.Turtle()\n",
        "t.shape(\"turtle\")\n",
        "for i in range(5):\n",
        "  t.forward(200);\n",
        "  t.right(90)\n",
        "  t.forward(20);\n",
        "  t.right(90)\n",
        "  t.forward(200);\n",
        "  t.left(90)\n",
        "  t.forward(20);\n",
        "  t.left(90)"
      ],
      "metadata": {
        "id": "2y2VWOCwcoqv"
      },
      "execution_count": null,
      "outputs": []
    },
    {
      "cell_type": "markdown",
      "source": [
        "11.다음의 터를그래픽 프로그램을 분석해보자 학습하지 않은 함수가 있다면 인터넷에서 조사하여 보자"
      ],
      "metadata": {
        "id": "5nHnPYsIcu5e"
      }
    },
    {
      "cell_type": "code",
      "source": [
        "import turtle\n",
        "t = turtle.Turtle()\n",
        "t.shape(\"turtle\")\n",
        "t.color('red', 'yellow')\n",
        "t.begin_fill()\n",
        "while True:\n",
        "  t.forward(200)\n",
        "  t.left(170)\n",
        "  if abs(t.pos()) < 1:\n",
        "    break\n",
        "t.end_fill()"
      ],
      "metadata": {
        "id": "s4DrxDSAcvaj"
      },
      "execution_count": null,
      "outputs": []
    },
    {
      "cell_type": "markdown",
      "source": [
        "12.터틀 그래픽과 반복을 사용하여 싸인(sine) 그래프를 그려보자 거북이를 싸인값에 따라서 움직이면 된다"
      ],
      "metadata": {
        "id": "ytRx4a8Gc3QC"
      }
    },
    {
      "cell_type": "code",
      "source": [
        "import turtle\n",
        "import math\n",
        "t= turtle.Turtle()\n",
        "t.shape(\"turtle\")\n",
        "t.color('red', 'yellow')\n",
        "for x in range(0, 360):\n",
        " t.goto(x,200*math.sin(x*3.14/180))"
      ],
      "metadata": {
        "id": "RAdu0RvXc248"
      },
      "execution_count": null,
      "outputs": []
    }
  ]
}